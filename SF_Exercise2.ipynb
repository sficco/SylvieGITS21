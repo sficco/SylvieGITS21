{
 "cells": [
  {
   "cell_type": "markdown",
   "metadata": {},
   "source": [
    "# Scusset Beach State Reservation\n",
    "\n",
    "[source: Wikipedia](https://en.wikipedia.org/wiki/Scusset_Beach_State_Reservation)\n",
    "Disclaimer: All materials are being used for demonstration purposes only"
   ]
  },
  {
   "cell_type": "markdown",
   "metadata": {},
   "source": [
    "###### Scusset Beach State Reservation \n",
    "is a state-operated, public recreation area located in the town of Sandwich in Barnstable County, Massachusetts, at the east end of the Cape Cod Canal on land formerly part of Sagamore Hill Military Reservation. In addition to its beach and campgrounds, prominent features of the park include Sagamore Hill, a one-time Native American meeting ground and site of World War II coastal fortifications, and a 3,000-foot (910 m) stone jetty that separates the canal and beach. Unlike most of Sandwich, this section of the town is on the mainland side of the Cape Cod Canal. The state park is managed by the Massachusetts Department of Conservation and Recreation under a lease agreement with the U.S. Army Corps of Engineers."
   ]
  },
  {
   "cell_type": "markdown",
   "metadata": {},
   "source": [
    "![Scusset Beach Image](https://upload.wikimedia.org/wikipedia/commons/d/de/CapeCodCanalEastEndAerial.jpg)"
   ]
  },
  {
   "cell_type": "markdown",
   "metadata": {},
   "source": [
    "## Activities and amenities"
   ]
  },
  {
   "cell_type": "markdown",
   "metadata": {},
   "source": [
    "Beach: The park fronts a half-mile of sandy beach and dunes on Cape Cod Bay. The beach area is served by an ADA-compliant boardwalk, wheelchair-accessible restrooms and showers, snack bars, and seasonal lifeguards.[5]"
   ]
  },
  {
   "cell_type": "markdown",
   "metadata": {},
   "source": [
    "Trails and roads: A .7-mile (1.1 km) trail to Sagamore Hill offers commanding views of the canal's east entrance and the bay. A 7-mile (11 km) paved service road along the north side of the canal is used for bicycling, walking, skating, and ship and wildlife watching.[4]"
   ]
  },
  {
   "cell_type": "markdown",
   "metadata": {},
   "source": [
    "Camping: The park offers 98 camping pitches for recreational vehicles and five for tents.[5] Off-season camping is permitted on Thursday, Friday, and Saturday nights, with facilities unavailable.[6] Camping at Shawme-Crowell State Forest includes access to Scusset Beach.[7]"
   ]
  },
  {
   "cell_type": "markdown",
   "metadata": {},
   "source": [
    "Fishing is available from a pier that extends out from the side of the canal, a breakwater, and the canal frontage road. Surf casting is possible at dusk along designated sections of the beach. Other park offerings include interpretive programs and restricted hunting.[3]"
   ]
  },
  {
   "cell_type": "markdown",
   "metadata": {},
   "source": [
    "![Scusset Beach Map](https://upload.wikimedia.org/wikipedia/commons/thumb/6/6e/Relief_map_of_USA_Massachusetts.png/420px-Relief_map_of_USA_Massachusetts.png)"
   ]
  },
  {
   "cell_type": "markdown",
   "metadata": {},
   "source": [
    "###### Location\n",
    "Sandwich, Barnstable, Massachusetts, United States"
   ]
  },
  {
   "cell_type": "markdown",
   "metadata": {},
   "source": [
    "###### Coordinates\n",
    "41°46′45.7″N 70°30′3.7″W"
   ]
  },
  {
   "cell_type": "markdown",
   "metadata": {},
   "source": [
    "###### Area\n",
    "459 acres (186 ha)[1]"
   ]
  },
  {
   "cell_type": "markdown",
   "metadata": {},
   "source": [
    "###### Governing body\n",
    "Massachusetts Department of Conservation and Recreation"
   ]
  },
  {
   "cell_type": "markdown",
   "metadata": {},
   "source": [
    "###### Website\n",
    "Scusset Beach State Reservation (https://www.mass.gov/locations/scusset-beach-state-reservation)"
   ]
  },
  {
   "cell_type": "markdown",
   "metadata": {},
   "source": [
    "## References\n",
    " 1. \"2012 Acreage Listing\" (PDF). Department of Conservation and Recreation. April 2012. Retrieved September 22, 2015.\n",
    " 2. \"Park History\". Friends of Scusset Beach State Reservation. Retrieved September 22, 2015.\n",
    " 3. \"Scusset Beach State Reservation\". MassParks. Executive Office of Energy and Environmental Affairs. Retrieved July 15, 2013.\n",
    " 4. \"Recreation Facilities/Activities\". Cape Cod Canal. U.S. Army Corps of Engineers. Retrieved July 15, 2013.\n",
    " 5. \"Beach, Campground\". Friends of Scusset Beach State Reservation. Retrieved September 22, 2015.\n",
    " 6. \"Things to Know Before You Go\". Scusset Beach State Reservation. Executive Office of Energy and Environmental Affairs. Retrieved July 15, 2013.\n",
    " 7. \"Shawme-Crowell State Forest\". MassParks. Executive Office of Energy and Environmental Affairs. Retrieved July 15, 2013."
   ]
  }
 ],
 "metadata": {
  "kernelspec": {
   "display_name": "Python 3",
   "language": "python",
   "name": "python3"
  },
  "language_info": {
   "codemirror_mode": {
    "name": "ipython",
    "version": 3
   },
   "file_extension": ".py",
   "mimetype": "text/x-python",
   "name": "python",
   "nbconvert_exporter": "python",
   "pygments_lexer": "ipython3",
   "version": "3.8.5"
  }
 },
 "nbformat": 4,
 "nbformat_minor": 4
}
