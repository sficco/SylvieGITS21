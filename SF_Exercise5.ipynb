{
 "cells": [
  {
   "cell_type": "markdown",
   "metadata": {},
   "source": [
    "### Coordinates\n",
    "National Seashore, Orleans Massachusetts\n",
    "\n",
    " 41°47'19.73\"N\n",
    " 69°56'12.76\"W\n",
    "\n",
    "Oslo Norway\n",
    " \n",
    " 59°54'49.66\"N\n",
    " 10°45'7.83\"E\n",
    "\n",
    "Purgatory Chasm State Resevation, Sutton Massachusetts"
   ]
  },
  {
   "cell_type": "code",
   "execution_count": 2,
   "metadata": {},
   "outputs": [],
   "source": [
    "def dd(direction,degrees,minutes,seconds):\n",
    "    return direction * (degrees + (minutes + seconds/60)/60)"
   ]
  },
  {
   "cell_type": "code",
   "execution_count": 11,
   "metadata": {},
   "outputs": [
    {
     "data": {
      "text/plain": [
       "71.71273611111111"
      ]
     },
     "execution_count": 11,
     "metadata": {},
     "output_type": "execute_result"
    }
   ],
   "source": [
    "dd(1,71,42,45.85)"
   ]
  },
  {
   "cell_type": "code",
   "execution_count": 9,
   "metadata": {},
   "outputs": [
    {
     "name": "stdout",
     "output_type": "stream",
     "text": [
      "The distance between The National Seashore and Oslo is 2750.25 miles.\n"
     ]
    }
   ],
   "source": [
    "import math\n",
    "radius = 6371\n",
    "lat1 = 41.806777777777775 * (math.pi/180)\n",
    "lon1 = 69.93687777777778 * (math.pi/180)\n",
    "lat2 = 59.91379444444444 * (math.pi/180)\n",
    "lon2 = 10.752175 * (math.pi/180)\n",
    "\n",
    "latd = lat1 - lat2\n",
    "lond = lon1 - lon2\n",
    "\n",
    "a= math.sin(latd/2)**2 + math.cos(lat1) * math.cos(lat2) * math.sin(lond/2)**2\n",
    "\n",
    "c= 2 * math.atan2(math.sqrt(a), math.sqrt(1-a))\n",
    "\n",
    "d=round(radius * c * 0.621371,2)\n",
    "\n",
    "print(f'The distance between The National Seashore and Oslo is {d} miles.')"
   ]
  },
  {
   "cell_type": "code",
   "execution_count": 12,
   "metadata": {},
   "outputs": [
    {
     "name": "stdout",
     "output_type": "stream",
     "text": [
      "The distance between The National Seashore and Purgatory Chasm 93.94 miles.\n"
     ]
    }
   ],
   "source": [
    "import math\n",
    "radius = 6371\n",
    "lat1 = 41.806777777777775 * (math.pi/180)\n",
    "lon1 = 69.93687777777778 * (math.pi/180)\n",
    "lat2 = 42.131191666666666 * (math.pi/180)\n",
    "lon2 = 71.71273611111111 * (math.pi/180)\n",
    "\n",
    "latd = lat1 - lat2\n",
    "lond = lon1 - lon2\n",
    "\n",
    "a= math.sin(latd/2)**2 + math.cos(lat1) * math.cos(lat2) * math.sin(lond/2)**2\n",
    "\n",
    "c= 2 * math.atan2(math.sqrt(a), math.sqrt(1-a))\n",
    "\n",
    "d=round(radius * c * 0.621371,2)\n",
    "\n",
    "print(f'The distance between The National Seashore and Purgatory Chasm {d} miles.')"
   ]
  },
  {
   "cell_type": "code",
   "execution_count": 13,
   "metadata": {},
   "outputs": [
    {
     "name": "stdout",
     "output_type": "stream",
     "text": [
      "The distance between Oslo and Purgatory Chasm 2795.19 miles.\n"
     ]
    }
   ],
   "source": [
    "import math\n",
    "radius = 6371\n",
    "lat1 = 59.91379444444444 * (math.pi/180)\n",
    "lon1 = 10.752175  * (math.pi/180)\n",
    "lat2 = 42.131191666666666 * (math.pi/180)\n",
    "lon2 = 71.71273611111111 * (math.pi/180)\n",
    "\n",
    "latd = lat1 - lat2\n",
    "lond = lon1 - lon2\n",
    "\n",
    "a= math.sin(latd/2)**2 + math.cos(lat1) * math.cos(lat2) * math.sin(lond/2)**2\n",
    "\n",
    "c= 2 * math.atan2(math.sqrt(a), math.sqrt(1-a))\n",
    "\n",
    "d=round(radius * c * 0.621371,2)\n",
    "\n",
    "print(f'The distance between Oslo and Purgatory Chasm {d} miles.')"
   ]
  }
 ],
 "metadata": {
  "kernelspec": {
   "display_name": "Python 3",
   "language": "python",
   "name": "python3"
  },
  "language_info": {
   "codemirror_mode": {
    "name": "ipython",
    "version": 3
   },
   "file_extension": ".py",
   "mimetype": "text/x-python",
   "name": "python",
   "nbconvert_exporter": "python",
   "pygments_lexer": "ipython3",
   "version": "3.8.5"
  }
 },
 "nbformat": 4,
 "nbformat_minor": 4
}
